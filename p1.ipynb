{
 "cells": [
  {
   "attachments": {},
   "cell_type": "markdown",
   "metadata": {},
   "source": [
    "# Avaliação - Parte Prática\n",
    "Davi Giordano Valério - 11805273"
   ]
  },
  {
   "cell_type": "code",
   "execution_count": 49,
   "metadata": {},
   "outputs": [],
   "source": [
    "import pandas as pd\n",
    "import matplotlib.pyplot as plt\n",
    "import torch\n",
    "import torch.nn as nn\n",
    "import numpy as np"
   ]
  },
  {
   "cell_type": "code",
   "execution_count": 6,
   "metadata": {},
   "outputs": [],
   "source": [
    "data_train_np = pd.read_csv(\n",
    "    \"https://media.githubusercontent.com/media/psi3471/datasets/main/disease_prediction/disease_train.csv\"\n",
    ").drop(columns=[\"Unnamed: 0\"])\n",
    "\n",
    "data_test_np = pd.read_csv(\n",
    "    \"https://media.githubusercontent.com/media/psi3471/datasets/main/disease_prediction/disease_test.csv\"\n",
    ").drop(columns=[\"Unnamed: 0\"])"
   ]
  },
  {
   "cell_type": "code",
   "execution_count": 11,
   "metadata": {},
   "outputs": [
    {
     "data": {
      "text/html": [
       "<div>\n",
       "<style scoped>\n",
       "    .dataframe tbody tr th:only-of-type {\n",
       "        vertical-align: middle;\n",
       "    }\n",
       "\n",
       "    .dataframe tbody tr th {\n",
       "        vertical-align: top;\n",
       "    }\n",
       "\n",
       "    .dataframe thead th {\n",
       "        text-align: right;\n",
       "    }\n",
       "</style>\n",
       "<table border=\"1\" class=\"dataframe\">\n",
       "  <thead>\n",
       "    <tr style=\"text-align: right;\">\n",
       "      <th></th>\n",
       "      <th>0</th>\n",
       "      <th>1</th>\n",
       "      <th>2</th>\n",
       "      <th>3</th>\n",
       "      <th>4</th>\n",
       "      <th>5</th>\n",
       "      <th>6</th>\n",
       "      <th>7</th>\n",
       "      <th>8</th>\n",
       "    </tr>\n",
       "  </thead>\n",
       "  <tbody>\n",
       "    <tr>\n",
       "      <th>0</th>\n",
       "      <td>6.000000</td>\n",
       "      <td>123.0</td>\n",
       "      <td>72.0</td>\n",
       "      <td>45.000000</td>\n",
       "      <td>230.000000</td>\n",
       "      <td>33.6</td>\n",
       "      <td>0.733</td>\n",
       "      <td>34.0</td>\n",
       "      <td>0.0</td>\n",
       "    </tr>\n",
       "    <tr>\n",
       "      <th>1</th>\n",
       "      <td>7.000000</td>\n",
       "      <td>159.0</td>\n",
       "      <td>66.0</td>\n",
       "      <td>20.536458</td>\n",
       "      <td>79.799479</td>\n",
       "      <td>30.4</td>\n",
       "      <td>0.383</td>\n",
       "      <td>36.0</td>\n",
       "      <td>1.0</td>\n",
       "    </tr>\n",
       "    <tr>\n",
       "      <th>2</th>\n",
       "      <td>3.845052</td>\n",
       "      <td>127.0</td>\n",
       "      <td>80.0</td>\n",
       "      <td>37.000000</td>\n",
       "      <td>210.000000</td>\n",
       "      <td>36.3</td>\n",
       "      <td>0.804</td>\n",
       "      <td>23.0</td>\n",
       "      <td>0.0</td>\n",
       "    </tr>\n",
       "    <tr>\n",
       "      <th>3</th>\n",
       "      <td>3.845052</td>\n",
       "      <td>105.0</td>\n",
       "      <td>64.0</td>\n",
       "      <td>41.000000</td>\n",
       "      <td>142.000000</td>\n",
       "      <td>41.5</td>\n",
       "      <td>0.173</td>\n",
       "      <td>22.0</td>\n",
       "      <td>0.0</td>\n",
       "    </tr>\n",
       "    <tr>\n",
       "      <th>4</th>\n",
       "      <td>3.000000</td>\n",
       "      <td>111.0</td>\n",
       "      <td>56.0</td>\n",
       "      <td>39.000000</td>\n",
       "      <td>79.799479</td>\n",
       "      <td>30.1</td>\n",
       "      <td>0.557</td>\n",
       "      <td>30.0</td>\n",
       "      <td>0.0</td>\n",
       "    </tr>\n",
       "  </tbody>\n",
       "</table>\n",
       "</div>"
      ],
      "text/plain": [
       "          0      1     2          3           4     5      6     7    8\n",
       "0  6.000000  123.0  72.0  45.000000  230.000000  33.6  0.733  34.0  0.0\n",
       "1  7.000000  159.0  66.0  20.536458   79.799479  30.4  0.383  36.0  1.0\n",
       "2  3.845052  127.0  80.0  37.000000  210.000000  36.3  0.804  23.0  0.0\n",
       "3  3.845052  105.0  64.0  41.000000  142.000000  41.5  0.173  22.0  0.0\n",
       "4  3.000000  111.0  56.0  39.000000   79.799479  30.1  0.557  30.0  0.0"
      ]
     },
     "execution_count": 11,
     "metadata": {},
     "output_type": "execute_result"
    }
   ],
   "source": [
    "data_train_np.head()"
   ]
  },
  {
   "cell_type": "code",
   "execution_count": 40,
   "metadata": {},
   "outputs": [],
   "source": [
    "eta = 0.01\n",
    "Nb = 50\n",
    "Ne = 100"
   ]
  },
  {
   "cell_type": "code",
   "execution_count": 41,
   "metadata": {},
   "outputs": [],
   "source": [
    "dados_treino = torch.tensor(data_train_np.to_numpy(), dtype=torch.float32)\n",
    "\n",
    "train_set = [\n",
    "    (dados_treino[:, 0:8], dados_treino[:, [8]])\n",
    "    for i in range(dados_treino.shape[0])\n",
    "]\n",
    "train_loader = torch.utils.data.DataLoader(train_set, batch_size=Nb, shuffle=True)"
   ]
  },
  {
   "cell_type": "code",
   "execution_count": 42,
   "metadata": {},
   "outputs": [],
   "source": [
    "class Model(nn.Module):\n",
    "\n",
    "    # Geralmente, os blocos da rede são definidos no método __init__()\n",
    "    def __init__(self):\n",
    "        # Necessário chamar __init__() da classe mãe\n",
    "        super().__init__()\n",
    "        \n",
    "        # Uma das formas de se definir um modelo é a sequencial\n",
    "        self.model = nn.Sequential(\n",
    "            # Entrada com 2 elementos, conectada a 3 neurônios\n",
    "            nn.Linear(8, 3),\n",
    "            # Função de ativação Tanh\n",
    "            nn.Tanh(),\n",
    "            \n",
    "            # Saídas de 3 neurônios conectadas a 5 neurônios\n",
    "            nn.Linear(3, 5),\n",
    "            nn.Tanh(),\n",
    "            \n",
    "            nn.Linear(5, 5),\n",
    "            nn.Tanh(),\n",
    "            \n",
    "            nn.Linear(5, 2),\n",
    "            nn.Tanh(),\n",
    "            \n",
    "            nn.Linear(2, 1),\n",
    "            nn.Tanh(),            \n",
    "        )\n",
    "\n",
    "    # O método forward() define como é feito o cálculo progressivo\n",
    "    # para obter a saída da rede, a partir da entrada x.\n",
    "    # Nesse caso, como foi definido um modelo sequencial em\n",
    "    # self.model, basta chamar self.model(x)\n",
    "    def forward(self, x):\n",
    "        output = self.model(x)\n",
    "        return output"
   ]
  },
  {
   "cell_type": "code",
   "execution_count": 43,
   "metadata": {},
   "outputs": [],
   "source": [
    "device = torch.device(\"cuda:0\" if torch.cuda.is_available() else \"cpu\")    \n",
    "\n",
    "model = Model().to(device=device)\n",
    "\n",
    "loss_function = nn.MSELoss()\n",
    "\n",
    "optimizer = torch.optim.SGD(model.parameters(), lr=eta)"
   ]
  },
  {
   "cell_type": "code",
   "execution_count": 44,
   "metadata": {},
   "outputs": [
    {
     "name": "stdout",
     "output_type": "stream",
     "text": [
      "Época: 0 Loss: 0.3662468492984772\n"
     ]
    },
    {
     "data": {
      "text/plain": [
       "Text(0, 0.5, 'Loss')"
      ]
     },
     "execution_count": 44,
     "metadata": {},
     "output_type": "execute_result"
    },
    {
     "data": {
      "image/png": "[encoded data removed]",
      "text/plain": [
       "<Figure size 640x480 with 1 Axes>"
      ]
     },
     "metadata": {},
     "output_type": "display_data"
    }
   ],
   "source": [
    "# Lista usada para guardar o valor da função custo ao longo das iterações\n",
    "losses = []\n",
    "\n",
    "# Loop das épocas\n",
    "for epoch in range(Ne):\n",
    "    # Loop dos mini batches - note que é usado o DataLoader para obter\n",
    "    # os sinais de entrada e desejado, X e d\n",
    "    for n, (X, d) in enumerate(train_loader):\n",
    "\n",
    "        # Envia os dados para a GPU, caso ela exista\n",
    "        X = X.to(device=device)\n",
    "        d = d.to(device=device)\n",
    "        \n",
    "        # Coloca o modelo em modo treinamento. Isso não é necessário nesse\n",
    "        # caso, pois não estamos fazendo validação. Mas é interessante manter\n",
    "        # a linha para lembrar desse detalhe\n",
    "        model.train()\n",
    "\n",
    "        # Zera informações de gradientes: por padrão o PyTorch acumula os \n",
    "        # gradientes a cada chamada de loss.backward(). Na maioria dos casos,\n",
    "        # estamos interessados apenas no último valor dos gradientes\n",
    "        model.zero_grad()\n",
    "        \n",
    "        # Calcula a saída\n",
    "        y = model(X)\n",
    "\n",
    "        # Calcula o valor da função custo\n",
    "        loss = loss_function(y, d)\n",
    "        \n",
    "        # Calcula os gradientes\n",
    "        loss.backward()\n",
    "        \n",
    "        # Atualiza os pesos do modelo, de acordo com as regras\n",
    "        # do otimizador escolhido\n",
    "        optimizer.step()\n",
    "        \n",
    "        # Armazena o valor da função custo\n",
    "        losses.append(loss.item())\n",
    "        \n",
    "        # Mostra o valor da função custo a cada 100 épocas        \n",
    "        if epoch % 100 == 0 and n == dados_treino.shape[0]//Nb - 1:\n",
    "            print(f\"Época: {epoch} Loss: {loss}\")\n",
    "\n",
    "plt.figure()\n",
    "plt.plot(losses)\n",
    "plt.xlabel(\"Batch\")\n",
    "plt.ylabel(\"Loss\")"
   ]
  },
  {
   "cell_type": "code",
   "execution_count": 45,
   "metadata": {},
   "outputs": [],
   "source": [
    "dados_teste = data_test_np.to_numpy()\n",
    "xteste = torch.tensor(dados_teste[:, 0:8], dtype=torch.float32).to(device=device)\n",
    "dteste = torch.tensor(dados_teste[:,[8]], dtype=torch.float32).to(device=device)"
   ]
  },
  {
   "cell_type": "code",
   "execution_count": 46,
   "metadata": {},
   "outputs": [],
   "source": [
    "yteste = model(xteste)\n",
    "yteste_np = yteste.cpu().detach().numpy()"
   ]
  },
  {
   "cell_type": "code",
   "execution_count": 50,
   "metadata": {},
   "outputs": [
    {
     "ename": "NameError",
     "evalue": "name 'dteste_np' is not defined",
     "output_type": "error",
     "traceback": [
      "\u001b[1;31m---------------------------------------------------------------------------\u001b[0m",
      "\u001b[1;31mNameError\u001b[0m                                 Traceback (most recent call last)",
      "Cell \u001b[1;32mIn[50], line 3\u001b[0m\n\u001b[0;32m      1\u001b[0m yteste_np_dec \u001b[39m=\u001b[39m np\u001b[39m.\u001b[39msign(yteste_np)\n\u001b[1;32m----> 3\u001b[0m Taxa_de_erro \u001b[39m=\u001b[39m np\u001b[39m.\u001b[39msum(np\u001b[39m.\u001b[39mabsolute(dteste_np \u001b[39m-\u001b[39m yteste_np_dec)) \u001b[39m*\u001b[39m \u001b[39m100\u001b[39m \u001b[39m/\u001b[39m (\u001b[39m2\u001b[39m \u001b[39m*\u001b[39m Nteste)\n\u001b[0;32m      5\u001b[0m \u001b[39mprint\u001b[39m(\u001b[39mf\u001b[39m\u001b[39m\"\u001b[39m\u001b[39mTaxa de erro: \u001b[39m\u001b[39m{\u001b[39;00mTaxa_de_erro\u001b[39m}\u001b[39;00m\u001b[39m\"\u001b[39m)\n",
      "\u001b[1;31mNameError\u001b[0m: name 'dteste_np' is not defined"
     ]
    }
   ],
   "source": [
    "Taxa_de_erro = np.sum(np.absolute(dteste - yteste_np_dec)) * 100 / (2 * Nteste)\n",
    "\n",
    "print(f\"Taxa de erro: {Taxa_de_erro}\")"
   ]
  }
 ],
 "metadata": {
  "kernelspec": {
   "display_name": "sis-int",
   "language": "python",
   "name": "python3"
  },
  "language_info": {
   "codemirror_mode": {
    "name": "ipython",
    "version": 3
   },
   "file_extension": ".py",
   "mimetype": "text/x-python",
   "name": "python",
   "nbconvert_exporter": "python",
   "pygments_lexer": "ipython3",
   "version": "3.11.0"
  },
  "orig_nbformat": 4
 },
 "nbformat": 4,
 "nbformat_minor": 2
}
