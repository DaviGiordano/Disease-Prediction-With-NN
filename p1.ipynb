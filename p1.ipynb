{
 "cells": [
  {
   "cell_type": "code",
   "execution_count": 1,
   "metadata": {},
   "outputs": [
    {
     "data": {
      "text/html": [
       "<img src=\"photos/foto.png\" width=\"600\"/>"
      ],
      "text/plain": [
       "<IPython.core.display.Image object>"
      ]
     },
     "execution_count": 1,
     "metadata": {},
     "output_type": "execute_result"
    }
   ],
   "source": [
    "from IPython.display import Image\n",
    "# get the image\n",
    "Image(url=\"photos/foto.png\", width=600)"
   ]
  },
  {
   "attachments": {},
   "cell_type": "markdown",
   "metadata": {},
   "source": [
    "### Importando bibliotecas"
   ]
  },
  {
   "cell_type": "code",
   "execution_count": 2,
   "metadata": {},
   "outputs": [],
   "source": [
    "import numpy as np\n",
    "import matplotlib.pyplot as plt\n",
    "import torch\n",
    "import pandas as pd"
   ]
  },
  {
   "attachments": {},
   "cell_type": "markdown",
   "metadata": {},
   "source": [
    "### Definindo tamanho do mini-batch e seeds"
   ]
  },
  {
   "cell_type": "code",
   "execution_count": null,
   "metadata": {},
   "outputs": [],
   "source": [
    "batch_size = 32"
   ]
  },
  {
   "cell_type": "code",
   "execution_count": null,
   "metadata": {},
   "outputs": [],
   "source": [
    "np.random.seed(111)\n",
    "torch.manual_seed(111)\n",
    "torch.cuda.manual_seed(111)"
   ]
  },
  {
   "attachments": {},
   "cell_type": "markdown",
   "metadata": {},
   "source": [
    "### Importando os datasets"
   ]
  },
  {
   "cell_type": "code",
   "execution_count": null,
   "metadata": {},
   "outputs": [],
   "source": [
    "df_train = pd.read_csv(\n",
    "    \"https://media.githubusercontent.com/media/psi3471/datasets/main/disease_prediction/disease_train.csv\"\n",
    ").drop(columns=[\"Unnamed: 0\"])\n",
    "\n",
    "df_test = pd.read_csv(\n",
    "    \"https://media.githubusercontent.com/media/psi3471/datasets/main/disease_prediction/disease_test.csv\"\n",
    ").drop(columns=[\"Unnamed: 0\"])\n",
    "\n",
    "X_train = df_train.iloc[:, 0:8].values\n",
    "y_train = df_train.iloc[:, 8].values\n",
    "\n",
    "X_test = df_test.iloc[:, 0:8].values\n",
    "y_test = df_test.iloc[:, 8].values"
   ]
  },
  {
   "attachments": {},
   "cell_type": "markdown",
   "metadata": {},
   "source": [
    "### Definindo uma classe dataset para converter os dados para tensores"
   ]
  },
  {
   "cell_type": "code",
   "execution_count": null,
   "metadata": {},
   "outputs": [],
   "source": [
    "from torch.utils.data import Dataset, DataLoader\n",
    "\n",
    "class MyDataset(Dataset):\n",
    "    def __init__(self, features, targets):\n",
    "        self.features = features\n",
    "        self.targets = targets\n",
    "\n",
    "    def __len__(self):\n",
    "        return len(self.features)\n",
    "\n",
    "    def __getitem__(self, idx):\n",
    "        return self.features[idx], self.targets[idx]"
   ]
  },
  {
   "attachments": {},
   "cell_type": "markdown",
   "metadata": {},
   "source": [
    "### Convertendo os dados para tensores"
   ]
  },
  {
   "cell_type": "code",
   "execution_count": null,
   "metadata": {},
   "outputs": [],
   "source": [
    "train_dataset = MyDataset(X_train, y_train)\n",
    "test_dataset = MyDataset(X_test, y_test)"
   ]
  },
  {
   "cell_type": "code",
   "execution_count": null,
   "metadata": {},
   "outputs": [],
   "source": [
    "train_loader = DataLoader(train_dataset, batch_size=batch_size, shuffle=True)\n",
    "test_loader = DataLoader(test_dataset, batch_size=batch_size, shuffle=False) "
   ]
  },
  {
   "attachments": {},
   "cell_type": "markdown",
   "metadata": {},
   "source": [
    "### Escrevendo uma função de treinamento"
   ]
  },
  {
   "cell_type": "code",
   "execution_count": null,
   "metadata": {},
   "outputs": [],
   "source": [
    "import torch.optim as optim\n",
    "from torch.optim import lr_scheduler\n",
    "\n",
    "def train_model(model, filename_weights):\n",
    "\n",
    "    # Num epocas\n",
    "    n_epochs = 100\n",
    "\n",
    "    # Definindo função custo e otimizador Adam\n",
    "    criterion = nn.BCEWithLogitsLoss()\n",
    "    optimizer = optim.Adam(model.parameters(), lr=0.01)\n",
    "\n",
    "    # Definindo learning rate scheduller\n",
    "    scheduler = lr_scheduler.StepLR(optimizer, step_size=10, gamma=0.1)\n",
    "\n",
    "    # Array para guardar função custo ao longo das épocas\n",
    "    train_losses = []\n",
    "    valid_losses = []\n",
    "\n",
    "    # Inicializando o early stopping conforme validação\n",
    "    no_improvement = 0\n",
    "    no_improvement_threshold = 10\n",
    "    best_valid_loss = float('inf') \n",
    "\n",
    "    # Loop de treinamento\n",
    "    for epoch in range(n_epochs):\n",
    "        train_loss = 0.0\n",
    "        valid_loss = 0.0\n",
    "        \n",
    "        # Treino\n",
    "        model.train()\n",
    "        for data, target in train_loader:\n",
    "\n",
    "            if torch.cuda.is_available():\n",
    "                data, target = data.cuda(), target.cuda()\n",
    "\n",
    "            optimizer.zero_grad()\n",
    "            output = model(data.float())\n",
    "            loss = criterion(output, target.view(-1, 1).float())\n",
    "            loss.backward()\n",
    "            optimizer.step()\n",
    "            train_loss += loss.item() * data.size(0)\n",
    "\n",
    "        # Validação\n",
    "        model.eval()\n",
    "        with torch.no_grad():\n",
    "            for data, target in test_loader:\n",
    "                if torch.cuda.is_available():\n",
    "                    data, target = data.cuda(), target.cuda()\n",
    "                    \n",
    "                output = model(data.float())\n",
    "                loss = criterion(output, target.view(-1, 1).float())\n",
    "                valid_loss += loss.item() * data.size(0)\n",
    "\n",
    "        # Calculando média da função custo\n",
    "        train_loss = train_loss / len(train_loader.sampler)\n",
    "        valid_loss = valid_loss / len(test_loader.sampler)\n",
    "        train_losses.append(train_loss)\n",
    "        valid_losses.append(valid_loss)\n",
    "\n",
    "        # Implementando o early stopping para evitar overfitting\n",
    "        if valid_loss < best_valid_loss:\n",
    "            best_valid_loss = valid_loss\n",
    "            torch.save(model.state_dict(), filename_weights)  # salvando o melhor modelo\n",
    "            no_improvement = 0\n",
    "        else:\n",
    "            no_improvement += 1\n",
    "            if no_improvement == no_improvement_threshold:\n",
    "                print(\"Sem melhoria do custo de validação para {} epochs. Parando treinamento.\".format(no_improvement_threshold))\n",
    "                break\n",
    "\n",
    "        # Adaptando o learning rate\n",
    "        scheduler.step()\n",
    "\n",
    "        # Imprimindo custos de treinamento e validação a cada época\n",
    "        print('Epoch: {} \\tTraining Loss: {:.6f} \\tValidation Loss: {:.6f}'.format(\n",
    "            epoch+1, train_loss, valid_loss))\n",
    "        \n",
    "    return train_losses, valid_losses"
   ]
  },
  {
   "attachments": {},
   "cell_type": "markdown",
   "metadata": {},
   "source": [
    "### Escrevendo uma função de testes"
   ]
  },
  {
   "cell_type": "code",
   "execution_count": null,
   "metadata": {},
   "outputs": [],
   "source": [
    "import sklearn\n",
    "from sklearn.metrics import confusion_matrix, accuracy_score, f1_score\n",
    "\n",
    "def test_model(model,filename_weights):\n",
    "\n",
    "    # Carregando o modelo especificado pelo nome do arquivo\n",
    "    model.load_state_dict(torch.load(filename_weights))\n",
    "\n",
    "    # Colocando o modelo em modo de teste\n",
    "    model.eval()\n",
    "\n",
    "    # Fazendo as previsões do modelo\n",
    "    predictions = []\n",
    "    targets = []\n",
    "\n",
    "    with torch.no_grad():\n",
    "        for data, target in test_loader:\n",
    "            if torch.cuda.is_available():\n",
    "                data, target = data.cuda(), target.cuda()\n",
    "            output = model(data.float())\n",
    "            pred = torch.round(torch.sigmoid(output)) #Saída entre 0 e 1\n",
    "            predictions.extend(pred.cpu().numpy())\n",
    "            targets.extend(target.cpu().numpy())\n",
    "\n",
    "    # Cálculo das métricas\n",
    "    conf_mat = confusion_matrix(targets, predictions)\n",
    "    accuracy = accuracy_score(targets, predictions)\n",
    "    f1 = f1_score(targets, predictions)\n",
    "\n",
    "    print(\"Confusion Matrix:\\n\", conf_mat)\n",
    "    print(\"\\nAccuracy: \", accuracy)\n",
    "    print(\"\\nF1 Score: \", f1)\n"
   ]
  },
  {
   "attachments": {},
   "cell_type": "markdown",
   "metadata": {},
   "source": [
    "### Definindo um modelo simples para comparação"
   ]
  },
  {
   "cell_type": "code",
   "execution_count": null,
   "metadata": {},
   "outputs": [],
   "source": [
    "import torch.nn as nn\n",
    "\n",
    "# Definindo o modelo simples para comparação\n",
    "class SimpleModel(nn.Module):\n",
    "    def __init__(self):\n",
    "        super(SimpleModel, self).__init__()\n",
    "\n",
    "        # Um neurônio apenas\n",
    "        self.fc = nn.Linear(8, 1)\n",
    "\n",
    "    def forward(self, x):\n",
    "        x = self.fc(x) #Saída linear para usar a BCEWithLogitsLoss\n",
    "        return x\n",
    "\n",
    "# Instanciando o modelo\n",
    "simple_model = SimpleModel()\n",
    "\n",
    "if torch.cuda.is_available():\n",
    "    simple_model = simple_model.cuda()\n"
   ]
  },
  {
   "attachments": {},
   "cell_type": "markdown",
   "metadata": {},
   "source": [
    "### Treinando o modelo simples"
   ]
  },
  {
   "cell_type": "code",
   "execution_count": null,
   "metadata": {},
   "outputs": [
    {
     "name": "stdout",
     "output_type": "stream",
     "text": [
      "Epoch: 1 \tTraining Loss: 5.024106 \tValidation Loss: 1.845849\n",
      "Epoch: 2 \tTraining Loss: 2.183273 \tValidation Loss: 1.709976\n",
      "Epoch: 3 \tTraining Loss: 1.705677 \tValidation Loss: 1.417295\n",
      "Epoch: 4 \tTraining Loss: 1.506630 \tValidation Loss: 1.245382\n",
      "Epoch: 5 \tTraining Loss: 1.290729 \tValidation Loss: 1.107418\n",
      "Epoch: 6 \tTraining Loss: 1.156759 \tValidation Loss: 0.922620\n",
      "Epoch: 7 \tTraining Loss: 1.020169 \tValidation Loss: 0.851028\n",
      "Epoch: 8 \tTraining Loss: 0.829402 \tValidation Loss: 0.723174\n",
      "Epoch: 9 \tTraining Loss: 0.845983 \tValidation Loss: 0.890208\n",
      "Epoch: 10 \tTraining Loss: 0.810122 \tValidation Loss: 0.623272\n",
      "Epoch: 11 \tTraining Loss: 0.662412 \tValidation Loss: 0.626749\n",
      "Epoch: 12 \tTraining Loss: 0.646652 \tValidation Loss: 0.613690\n",
      "Epoch: 13 \tTraining Loss: 0.644170 \tValidation Loss: 0.623663\n",
      "Epoch: 14 \tTraining Loss: 0.658264 \tValidation Loss: 0.606492\n",
      "Epoch: 15 \tTraining Loss: 0.639882 \tValidation Loss: 0.611631\n",
      "Epoch: 16 \tTraining Loss: 0.636922 \tValidation Loss: 0.607197\n",
      "Epoch: 17 \tTraining Loss: 0.642177 \tValidation Loss: 0.612101\n",
      "Epoch: 18 \tTraining Loss: 0.630238 \tValidation Loss: 0.601093\n",
      "Epoch: 19 \tTraining Loss: 0.631197 \tValidation Loss: 0.600860\n",
      "Epoch: 20 \tTraining Loss: 0.627604 \tValidation Loss: 0.599360\n",
      "Epoch: 21 \tTraining Loss: 0.619915 \tValidation Loss: 0.597663\n",
      "Epoch: 22 \tTraining Loss: 0.619831 \tValidation Loss: 0.600136\n",
      "Epoch: 23 \tTraining Loss: 0.619714 \tValidation Loss: 0.600751\n",
      "Epoch: 24 \tTraining Loss: 0.619934 \tValidation Loss: 0.599889\n",
      "Epoch: 25 \tTraining Loss: 0.619035 \tValidation Loss: 0.599734\n",
      "Epoch: 26 \tTraining Loss: 0.619612 \tValidation Loss: 0.596512\n",
      "Epoch: 27 \tTraining Loss: 0.619165 \tValidation Loss: 0.597822\n",
      "Epoch: 28 \tTraining Loss: 0.618459 \tValidation Loss: 0.598395\n",
      "Epoch: 29 \tTraining Loss: 0.618467 \tValidation Loss: 0.598171\n",
      "Epoch: 30 \tTraining Loss: 0.618212 \tValidation Loss: 0.599075\n",
      "Epoch: 31 \tTraining Loss: 0.617531 \tValidation Loss: 0.598756\n",
      "Epoch: 32 \tTraining Loss: 0.617591 \tValidation Loss: 0.598718\n",
      "Epoch: 33 \tTraining Loss: 0.617687 \tValidation Loss: 0.598397\n",
      "Epoch: 34 \tTraining Loss: 0.617597 \tValidation Loss: 0.598647\n",
      "Epoch: 35 \tTraining Loss: 0.617502 \tValidation Loss: 0.598417\n",
      "Sem melhoria do custo de validação para 10 epochs. Parando treinamento.\n"
     ]
    }
   ],
   "source": [
    "filename_weights = 'simple_model.pt'\n",
    "train_losses, valid_losses = train_model(simple_model, filename_weights)"
   ]
  },
  {
   "cell_type": "code",
   "execution_count": null,
   "metadata": {},
   "outputs": [
    {
     "data": {
      "image/png": "[encoded data removed]",
      "text/plain": [
       "<Figure size 640x480 with 1 Axes>"
      ]
     },
     "metadata": {},
     "output_type": "display_data"
    }
   ],
   "source": [
    "# Gráficos das funções custo\n",
    "plt.plot(train_losses, label='Training loss')\n",
    "plt.plot(valid_losses, label='Validation loss')\n",
    "plt.legend()\n",
    "plt.show()"
   ]
  },
  {
   "attachments": {},
   "cell_type": "markdown",
   "metadata": {},
   "source": [
    "### Testando o modelo simples"
   ]
  },
  {
   "cell_type": "code",
   "execution_count": null,
   "metadata": {},
   "outputs": [
    {
     "name": "stdout",
     "output_type": "stream",
     "text": [
      "Confusion Matrix:\n",
      " [[84 21]\n",
      " [23 26]]\n",
      "\n",
      "Accuracy:  0.7142857142857143\n",
      "\n",
      "F1 Score:  0.5416666666666667\n"
     ]
    }
   ],
   "source": [
    "test_model(simple_model, filename_weights)"
   ]
  },
  {
   "attachments": {},
   "cell_type": "markdown",
   "metadata": {},
   "source": [
    "### Desenvolvendo um modelo mais complexo"
   ]
  },
  {
   "cell_type": "code",
   "execution_count": null,
   "metadata": {},
   "outputs": [],
   "source": [
    "import torch.nn.functional as F\n",
    "\n",
    "# Definindo o modelo\n",
    "class ComplexModel(nn.Module):\n",
    "    def __init__(self):\n",
    "        super(ComplexModel, self).__init__()\n",
    "        self.fc1 = nn.Linear(8, 16)\n",
    "        self.fc2 = nn.Linear(16, 32)\n",
    "        self.fc3 = nn.Linear(32, 64)\n",
    "        self.fc4 = nn.Linear(64, 32)\n",
    "        self.fc5 = nn.Linear(32, 16)\n",
    "        self.fc6 = nn.Linear(16, 1)\n",
    "        self.dropout = nn.Dropout(0.1)\n",
    "\n",
    "\n",
    "    def forward(self, x):\n",
    "        x = F.relu(self.fc1(x))\n",
    "        x = self.dropout(x)\n",
    "        x = F.relu(self.fc2(x))\n",
    "        x = self.dropout(x)\n",
    "        x = F.relu(self.fc3(x))\n",
    "        x = self.dropout(x)\n",
    "        x = F.relu(self.fc4(x))\n",
    "        x = self.dropout(x)\n",
    "        x = F.relu(self.fc5(x))\n",
    "        x = self.dropout(x)\n",
    "        x = self.fc6(x)\n",
    "        return x\n",
    "\n",
    "# Instanciando o modelo\n",
    "complex_model = ComplexModel()\n",
    "\n",
    "if torch.cuda.is_available():\n",
    "    complex_model = complex_model.cuda()"
   ]
  },
  {
   "attachments": {},
   "cell_type": "markdown",
   "metadata": {},
   "source": [
    "### Treinando o modelo complexo"
   ]
  },
  {
   "cell_type": "code",
   "execution_count": null,
   "metadata": {},
   "outputs": [
    {
     "name": "stdout",
     "output_type": "stream",
     "text": [
      "Epoch: 1 \tTraining Loss: 0.701135 \tValidation Loss: 0.639605\n",
      "Epoch: 2 \tTraining Loss: 0.665230 \tValidation Loss: 0.664588\n",
      "Epoch: 3 \tTraining Loss: 0.652749 \tValidation Loss: 0.627569\n",
      "Epoch: 4 \tTraining Loss: 0.642041 \tValidation Loss: 0.613958\n",
      "Epoch: 5 \tTraining Loss: 0.653079 \tValidation Loss: 0.646151\n",
      "Epoch: 6 \tTraining Loss: 0.657745 \tValidation Loss: 0.637476\n",
      "Epoch: 7 \tTraining Loss: 0.636770 \tValidation Loss: 0.606306\n",
      "Epoch: 8 \tTraining Loss: 0.610391 \tValidation Loss: 0.562721\n",
      "Epoch: 9 \tTraining Loss: 0.619602 \tValidation Loss: 0.600400\n",
      "Epoch: 10 \tTraining Loss: 0.591362 \tValidation Loss: 0.558874\n",
      "Epoch: 11 \tTraining Loss: 0.582794 \tValidation Loss: 0.553206\n",
      "Epoch: 12 \tTraining Loss: 0.577995 \tValidation Loss: 0.553037\n",
      "Epoch: 13 \tTraining Loss: 0.579384 \tValidation Loss: 0.549401\n",
      "Epoch: 14 \tTraining Loss: 0.576594 \tValidation Loss: 0.547088\n",
      "Epoch: 15 \tTraining Loss: 0.568675 \tValidation Loss: 0.544577\n",
      "Epoch: 16 \tTraining Loss: 0.586851 \tValidation Loss: 0.546862\n",
      "Epoch: 17 \tTraining Loss: 0.579812 \tValidation Loss: 0.547571\n",
      "Epoch: 18 \tTraining Loss: 0.577040 \tValidation Loss: 0.549559\n",
      "Epoch: 19 \tTraining Loss: 0.570503 \tValidation Loss: 0.549513\n",
      "Epoch: 20 \tTraining Loss: 0.553928 \tValidation Loss: 0.547833\n",
      "Epoch: 21 \tTraining Loss: 0.562206 \tValidation Loss: 0.547287\n",
      "Epoch: 22 \tTraining Loss: 0.566522 \tValidation Loss: 0.547175\n",
      "Epoch: 23 \tTraining Loss: 0.564361 \tValidation Loss: 0.547226\n",
      "Epoch: 24 \tTraining Loss: 0.565151 \tValidation Loss: 0.547181\n",
      "Sem melhoria do custo de validação para 10 epochs. Parando treinamento.\n"
     ]
    }
   ],
   "source": [
    "filename_weights = 'complex_model.pt'\n",
    "train_losses, valid_losses = train_model(complex_model, filename_weights)"
   ]
  },
  {
   "cell_type": "code",
   "execution_count": null,
   "metadata": {},
   "outputs": [
    {
     "data": {
      "image/png": "[encoded data removed]",
      "text/plain": [
       "<Figure size 640x480 with 1 Axes>"
      ]
     },
     "metadata": {},
     "output_type": "display_data"
    }
   ],
   "source": [
    "# Funções custo\n",
    "plt.plot(train_losses, label='Training loss')\n",
    "plt.plot(valid_losses, label='Validation loss')\n",
    "plt.legend()\n",
    "plt.show()"
   ]
  },
  {
   "attachments": {},
   "cell_type": "markdown",
   "metadata": {},
   "source": [
    "### Testando o modelo complexo"
   ]
  },
  {
   "cell_type": "code",
   "execution_count": null,
   "metadata": {},
   "outputs": [
    {
     "name": "stdout",
     "output_type": "stream",
     "text": [
      "Confusion Matrix:\n",
      " [[95 10]\n",
      " [28 21]]\n",
      "\n",
      "Accuracy:  0.7532467532467533\n",
      "\n",
      "F1 Score:  0.525\n"
     ]
    }
   ],
   "source": [
    "test_model(complex_model, filename_weights)"
   ]
  },
  {
   "attachments": {},
   "cell_type": "markdown",
   "metadata": {},
   "source": [
    "### Arquitetura final"
   ]
  },
  {
   "attachments": {},
   "cell_type": "markdown",
   "metadata": {},
   "source": [
    "A arquitetura do modelo escolhido é 16-32-64-32-12-1 com a função de ativação RELU para as camadas ocultas e uma saída linear, a fim de utilizar a BCEWithLogitsLoss como função custo. \n",
    "\n",
    "Foram utilizados os seguintes hyperparâmetros base:\n",
    "- Learning rate = 0.01;\n",
    "- Tamanho do batch = 32\n",
    "- Número de épocas = 100\n",
    "\n",
    "Para evitar o overfitting, foram utilizadas a seguintes estratégias com os respectivos hyperparâmetros:\n",
    "- Dropout em todas as camadas com probabilidade = 0.1\n",
    "- \"learning rate scheduler\" com step size igual a 10 e gamma igual a 0.1, para evitar os mínimos locais mas diminuir o learning rate com o passar das épocas\n",
    "- Otimizador Adam\n",
    "- Validação em paralelo com treinamento\n",
    "- Early stopping com tolerância de 10 épocas para aguardar queda da função custo de validação.\n",
    "\n",
    "Para treinamento e teste, foram utilizados os códigos que podem ser visualizados nas funções train_model() e test_model()"
   ]
  },
  {
   "attachments": {},
   "cell_type": "markdown",
   "metadata": {},
   "source": [
    "### Resultados dos testes\n",
    "Com a arquitetura final, foi obtido:\n",
    "\n",
    "A matriz de confusão:\n",
    "\n",
    "$ \\begin{bmatrix}\n",
    "95 & 10 \\\\\n",
    "28 & 21 \n",
    "\\end{bmatrix}  $\n",
    "\n",
    "F1-Score:  0.525\n",
    "\n",
    "Acurácia: 0.75\n",
    "\n",
    "\n",
    "Foi possível obter uma acurácia mediana, mas que pode ser considerada relativamente alta dado o pequeno número de casos de teste e o desbalanceamento dos dados. Uma corretude no diagnóstico de uma doença de 75% não seria suficiente para a utilização médica desse modelo.\n",
    "\n",
    "Os problemas de uma possível utilização médica desse modelo ficam ainda mais claros quando se observa a matriz de confusão e o F1-Score. Dos 154 dados de treinamento, 28 dos resultados foram falsos negativos (erro do tipo II), o que no contexto considerado seria o erro mais problemático. Além disso, houve 10 casos do tipo I, em que um paciente sem a doença seria diagnosticado corretamente. 116 dos exemplos do treinamento possuem o resultado adequado, (positivo verdadeiro e negativo verdadeiro).\n",
    "\n",
    "O F1-Score, como média harmônica de precisão e sensibilidade, está longe de 1 e permite representar os resultados não satisfatórios visualizados na matriz de confusão (muitos erros do tipo II) em apenas uma métrica.\n",
    "\n"
   ]
  },
  {
   "attachments": {},
   "cell_type": "markdown",
   "metadata": {},
   "source": [
    "### Comparação com resultados obtidos com a regressão logística\n",
    "\n",
    "No modelo simples com apenas um neurônio e regressão logística, foram obtidos resultados surpeendentes, e relativamente próximos do modelo com a arquitetura final proposta.\n",
    "\n",
    "A matriz de confusão:\n",
    "\n",
    "$ \\begin{bmatrix}\n",
    "84 & 21 \\\\\n",
    "23 & 26 \n",
    "\\end{bmatrix}  $\n",
    "\n",
    "F1 Score:  0.542\n",
    "\n",
    "Acurácia:  0.72\n",
    "\n",
    "A acurácia obtida com o modelo simples é um pouco menor, mas o F1-Score é um pouco maior do que aquele com o modelo complexo. Além disso, obteve-se menos casos de falso negativo, o que é benéfico no contexto considerado. O problema do modelo mais simples foi apresentar um alto número de falsos positivos, o que indica necessidade de melhorias da arquitetura ou dos hiperparâmetros."
   ]
  },
  {
   "attachments": {},
   "cell_type": "markdown",
   "metadata": {},
   "source": [
    "### Conclusão\n",
    "Portanto, observa-se que um modelo mais complexo nem sempre significará um desempenho muito maior. É necessário cuidado para evitar o overfitting e uma maior experimentação para extrair seu melhor desempenho.\n",
    "\n",
    "A fim de continuar a aprimoração do modelo desenvolvido, sugere-se a aplicação de um grid search para determinar os melhores hiperparâmetros de maneira sistemática, a fim de melhor especificar uma arquitetura mais profunda."
   ]
  }
 ],
 "metadata": {
  "kernelspec": {
   "display_name": "sis-int",
   "language": "python",
   "name": "python3"
  },
  "language_info": {
   "codemirror_mode": {
    "name": "ipython",
    "version": 3
   },
   "file_extension": ".py",
   "mimetype": "text/x-python",
   "name": "python",
   "nbconvert_exporter": "python",
   "pygments_lexer": "ipython3",
   "version": "3.11.0"
  },
  "orig_nbformat": 4
 },
 "nbformat": 4,
 "nbformat_minor": 2
}
