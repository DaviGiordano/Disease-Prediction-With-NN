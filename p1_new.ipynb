{
 "cells": [
  {
   "cell_type": "code",
   "execution_count": 224,
   "metadata": {},
   "outputs": [],
   "source": [
    "import numpy as np\n",
    "import matplotlib.pyplot as plt\n",
    "import torch\n",
    "import pandas as pd"
   ]
  },
  {
   "cell_type": "code",
   "execution_count": 225,
   "metadata": {},
   "outputs": [],
   "source": [
    "#Defining global constants\n",
    "batch_size = 32"
   ]
  },
  {
   "cell_type": "code",
   "execution_count": 226,
   "metadata": {},
   "outputs": [],
   "source": [
    "#Fixating seed to achieve reproducible results\n",
    "np.random.seed(111)\n",
    "torch.manual_seed(111)\n",
    "torch.cuda.manual_seed(111)"
   ]
  },
  {
   "cell_type": "code",
   "execution_count": 227,
   "metadata": {},
   "outputs": [],
   "source": [
    "#Importing train and test datasets\n",
    "df_train = pd.read_csv(\n",
    "    \"https://media.githubusercontent.com/media/psi3471/datasets/main/disease_prediction/disease_train.csv\"\n",
    ").drop(columns=[\"Unnamed: 0\"])\n",
    "\n",
    "df_test = pd.read_csv(\n",
    "    \"https://media.githubusercontent.com/media/psi3471/datasets/main/disease_prediction/disease_test.csv\"\n",
    ").drop(columns=[\"Unnamed: 0\"])\n",
    "\n",
    "#Separating features and targets\n",
    "X_train = df_train.iloc[:, 0:8].values\n",
    "y_train = df_train.iloc[:, 8].values\n",
    "\n",
    "X_test = df_test.iloc[:, 0:8].values\n",
    "y_test = df_test.iloc[:, 8].values"
   ]
  },
  {
   "cell_type": "code",
   "execution_count": 228,
   "metadata": {},
   "outputs": [],
   "source": [
    "#Defining a dataset class to handle the data\n",
    "from torch.utils.data import Dataset, DataLoader\n",
    "\n",
    "class MyDataset(Dataset):\n",
    "    def __init__(self, features, targets):\n",
    "        self.features = features\n",
    "        self.targets = targets\n",
    "\n",
    "    def __len__(self):\n",
    "        return len(self.features)\n",
    "\n",
    "    def __getitem__(self, idx):\n",
    "        return self.features[idx], self.targets[idx]"
   ]
  },
  {
   "cell_type": "code",
   "execution_count": 229,
   "metadata": {},
   "outputs": [],
   "source": [
    "#Instantiating training and testing datasets\n",
    "train_dataset = MyDataset(X_train, y_train)\n",
    "test_dataset = MyDataset(X_test, y_test)"
   ]
  },
  {
   "cell_type": "code",
   "execution_count": 230,
   "metadata": {},
   "outputs": [],
   "source": [
    "#Creating data loaders for the torch model\n",
    "train_loader = DataLoader(train_dataset, batch_size=batch_size, shuffle=True)\n",
    "test_loader = DataLoader(test_dataset, batch_size=batch_size, shuffle=False) "
   ]
  },
  {
   "cell_type": "code",
   "execution_count": 231,
   "metadata": {},
   "outputs": [],
   "source": [
    "#Defining the model\n",
    "import torch.nn as nn\n",
    "\n",
    "# Define the neural network\n",
    "class MyNet(nn.Module):\n",
    "    def __init__(self):\n",
    "        super(MyNet, self).__init__()\n",
    "\n",
    "        # Linear layer with 8 inputs and 1 output (1 neuron)\n",
    "        self.fc = nn.Linear(8, 1)\n",
    "\n",
    "    def forward(self, x):\n",
    "        x = self.fc(x)\n",
    "        return x\n",
    "\n",
    "# Create an instance of the network\n",
    "simple_model = MyNet()\n",
    "\n",
    "# Move the model to GPU if available\n",
    "if torch.cuda.is_available():\n",
    "    simple_model = simple_model.cuda()\n"
   ]
  },
  {
   "cell_type": "code",
   "execution_count": 232,
   "metadata": {},
   "outputs": [],
   "source": [
    "import torch.nn.functional as F\n",
    "\n",
    "# Define the neural network\n",
    "class ComplexModel(nn.Module):\n",
    "    def __init__(self):\n",
    "        super(ComplexModel, self).__init__()\n",
    "        self.fc1 = nn.Linear(8, 16)\n",
    "        self.fc2 = nn.Linear(16, 16)\n",
    "        self.fc3 = nn.Linear(16, 1)\n",
    "\n",
    "    def forward(self, x):\n",
    "        x = F.relu(self.fc1(x))\n",
    "        x = F.relu(self.fc2(x))\n",
    "        x = self.fc3(x)  # linear output\n",
    "        return x\n",
    "\n",
    "# Create an instance of the network\n",
    "complex_model = ComplexModel()\n",
    "\n",
    "# Move the model to GPU if available\n",
    "if torch.cuda.is_available():\n",
    "    complex_model = complex_model.cuda()"
   ]
  },
  {
   "cell_type": "code",
   "execution_count": 233,
   "metadata": {},
   "outputs": [],
   "source": [
    "import torch.optim as optim\n",
    "from torch.optim import lr_scheduler\n",
    "\n",
    "#Defining a function for training\n",
    "def train_model(model, filename_weights):\n",
    "    # Number of epochs\n",
    "    n_epochs = 100\n",
    "\n",
    "    # Define loss function and optimizer\n",
    "    criterion = nn.BCEWithLogitsLoss()\n",
    "    optimizer = optim.Adam(model.parameters(), lr=0.001)\n",
    "\n",
    "    #Defining a learning rate scheduller:\n",
    "    scheduler = lr_scheduler.StepLR(optimizer, step_size=10, gamma=0.1)\n",
    "\n",
    "    # List to store loss values for each epoch\n",
    "    train_losses = []\n",
    "    valid_losses = []\n",
    "\n",
    "    # Initialize the early_stopping counter\n",
    "    no_improvement = 0\n",
    "    no_improvement_threshold = 5  # you can adjust this value\n",
    "    best_valid_loss = float('inf') \n",
    "\n",
    "    # Training loop\n",
    "    for epoch in range(n_epochs):\n",
    "        train_loss = 0.0\n",
    "        valid_loss = 0.0\n",
    "        \n",
    "        # Training phase\n",
    "        model.train()\n",
    "        for data, target in train_loader:\n",
    "            # If GPU is available, move data and target to GPU\n",
    "            if torch.cuda.is_available():\n",
    "                data, target = data.cuda(), target.cuda()\n",
    "\n",
    "            optimizer.zero_grad()\n",
    "            output = model(data.float())\n",
    "            loss = criterion(output, target.view(-1, 1).float())\n",
    "            loss.backward()\n",
    "            optimizer.step()\n",
    "            train_loss += loss.item() * data.size(0)\n",
    "\n",
    "        # Validation phase\n",
    "        model.eval()\n",
    "        with torch.no_grad():\n",
    "            for data, target in test_loader:\n",
    "                if torch.cuda.is_available():\n",
    "                    data, target = data.cuda(), target.cuda()\n",
    "                    \n",
    "                output = model(data.float())\n",
    "                loss = criterion(output, target.view(-1, 1).float())\n",
    "                valid_loss += loss.item() * data.size(0)\n",
    "\n",
    "        # Calculate average losses\n",
    "        train_loss = train_loss / len(train_loader.sampler)\n",
    "        valid_loss = valid_loss / len(test_loader.sampler)\n",
    "        train_losses.append(train_loss)\n",
    "        valid_losses.append(valid_loss)\n",
    "\n",
    "        #Implementing early stopping to prevent overfitting\n",
    "        if valid_loss < best_valid_loss:\n",
    "            best_valid_loss = valid_loss\n",
    "            torch.save(model.state_dict(), filename_weights)  # save the best model\n",
    "            no_improvement = 0\n",
    "        else:\n",
    "            no_improvement += 1\n",
    "            if no_improvement == no_improvement_threshold:\n",
    "                print(\"No improvement in validation loss for {} epochs. Stopping training.\".format(no_improvement_threshold))\n",
    "                break\n",
    "\n",
    "        #Adapting learning rate\n",
    "        scheduler.step()\n",
    "\n",
    "        # Print training/validation statistics \n",
    "        print('Epoch: {} \\tTraining Loss: {:.6f} \\tValidation Loss: {:.6f}'.format(\n",
    "            epoch+1, train_loss, valid_loss))\n",
    "        \n",
    "    return train_losses, valid_losses"
   ]
  },
  {
   "cell_type": "code",
   "execution_count": 234,
   "metadata": {},
   "outputs": [],
   "source": [
    "import sklearn\n",
    "from sklearn.metrics import confusion_matrix, accuracy_score, f1_score\n",
    "\n",
    "def test_model(model,filename_weights):\n",
    "    # Load the best model\n",
    "    model.load_state_dict(torch.load(filename_weights))\n",
    "\n",
    "    # Set model to evaluation mode\n",
    "    model.eval()\n",
    "\n",
    "    # Make predictions on the test data\n",
    "    predictions = []\n",
    "    targets = []\n",
    "\n",
    "    with torch.no_grad():\n",
    "        for data, target in test_loader:\n",
    "            if torch.cuda.is_available():\n",
    "                data, target = data.cuda(), target.cuda()\n",
    "            output = model(data.float())\n",
    "            pred = torch.round(torch.sigmoid(output))  # round the output to 0 or 1\n",
    "            predictions.extend(pred.cpu().numpy())\n",
    "            targets.extend(target.cpu().numpy())\n",
    "\n",
    "    # Compute metrics\n",
    "    conf_mat = confusion_matrix(targets, predictions)\n",
    "    accuracy = accuracy_score(targets, predictions)\n",
    "    f1 = f1_score(targets, predictions)\n",
    "\n",
    "    print(\"Confusion Matrix:\\n\", conf_mat)\n",
    "    print(\"\\nAccuracy: \", accuracy)\n",
    "    print(\"\\nF1 Score: \", f1)\n"
   ]
  },
  {
   "cell_type": "code",
   "execution_count": 235,
   "metadata": {},
   "outputs": [
    {
     "name": "stdout",
     "output_type": "stream",
     "text": [
      "Epoch: 1 \tTraining Loss: 28.823559 \tValidation Loss: 29.317455\n",
      "Epoch: 2 \tTraining Loss: 24.003532 \tValidation Loss: 24.092501\n",
      "Epoch: 3 \tTraining Loss: 19.178257 \tValidation Loss: 18.794109\n",
      "Epoch: 4 \tTraining Loss: 14.450240 \tValidation Loss: 13.801027\n",
      "Epoch: 5 \tTraining Loss: 10.377748 \tValidation Loss: 9.893726\n",
      "Epoch: 6 \tTraining Loss: 7.745339 \tValidation Loss: 7.776313\n",
      "Epoch: 7 \tTraining Loss: 6.413761 \tValidation Loss: 6.801940\n",
      "Epoch: 8 \tTraining Loss: 5.871906 \tValidation Loss: 6.386831\n",
      "Epoch: 9 \tTraining Loss: 5.667207 \tValidation Loss: 6.149708\n",
      "Epoch: 10 \tTraining Loss: 5.512729 \tValidation Loss: 5.968185\n",
      "Epoch: 11 \tTraining Loss: 5.436734 \tValidation Loss: 5.948352\n",
      "Epoch: 12 \tTraining Loss: 5.423246 \tValidation Loss: 5.930640\n",
      "Epoch: 13 \tTraining Loss: 5.407960 \tValidation Loss: 5.908004\n",
      "Epoch: 14 \tTraining Loss: 5.392717 \tValidation Loss: 5.891393\n",
      "Epoch: 15 \tTraining Loss: 5.377757 \tValidation Loss: 5.873049\n",
      "Epoch: 16 \tTraining Loss: 5.362148 \tValidation Loss: 5.853352\n",
      "Epoch: 17 \tTraining Loss: 5.346076 \tValidation Loss: 5.835396\n",
      "Epoch: 18 \tTraining Loss: 5.328120 \tValidation Loss: 5.812673\n",
      "Epoch: 19 \tTraining Loss: 5.310360 \tValidation Loss: 5.788723\n",
      "Epoch: 20 \tTraining Loss: 5.294667 \tValidation Loss: 5.763546\n",
      "Epoch: 21 \tTraining Loss: 5.283170 \tValidation Loss: 5.761261\n",
      "Epoch: 22 \tTraining Loss: 5.281343 \tValidation Loss: 5.759252\n",
      "Epoch: 23 \tTraining Loss: 5.279637 \tValidation Loss: 5.757020\n",
      "Epoch: 24 \tTraining Loss: 5.277756 \tValidation Loss: 5.754613\n",
      "Epoch: 25 \tTraining Loss: 5.275879 \tValidation Loss: 5.752248\n",
      "Epoch: 26 \tTraining Loss: 5.273821 \tValidation Loss: 5.749416\n",
      "Epoch: 27 \tTraining Loss: 5.271758 \tValidation Loss: 5.747299\n",
      "Epoch: 28 \tTraining Loss: 5.269770 \tValidation Loss: 5.744584\n",
      "Epoch: 29 \tTraining Loss: 5.267727 \tValidation Loss: 5.742159\n",
      "Epoch: 30 \tTraining Loss: 5.265700 \tValidation Loss: 5.739813\n",
      "Epoch: 31 \tTraining Loss: 5.264477 \tValidation Loss: 5.739619\n",
      "Epoch: 32 \tTraining Loss: 5.264278 \tValidation Loss: 5.739373\n",
      "Epoch: 33 \tTraining Loss: 5.264063 \tValidation Loss: 5.739122\n",
      "Epoch: 34 \tTraining Loss: 5.263859 \tValidation Loss: 5.738814\n",
      "Epoch: 35 \tTraining Loss: 5.263643 \tValidation Loss: 5.738565\n",
      "Epoch: 36 \tTraining Loss: 5.263419 \tValidation Loss: 5.738243\n",
      "Epoch: 37 \tTraining Loss: 5.263194 \tValidation Loss: 5.738009\n",
      "Epoch: 38 \tTraining Loss: 5.262992 \tValidation Loss: 5.737740\n",
      "Epoch: 39 \tTraining Loss: 5.262768 \tValidation Loss: 5.737428\n",
      "Epoch: 40 \tTraining Loss: 5.262553 \tValidation Loss: 5.737167\n",
      "Epoch: 41 \tTraining Loss: 5.262416 \tValidation Loss: 5.737145\n",
      "Epoch: 42 \tTraining Loss: 5.262395 \tValidation Loss: 5.737122\n",
      "Epoch: 43 \tTraining Loss: 5.262372 \tValidation Loss: 5.737097\n",
      "Epoch: 44 \tTraining Loss: 5.262350 \tValidation Loss: 5.737072\n",
      "Epoch: 45 \tTraining Loss: 5.262327 \tValidation Loss: 5.737040\n",
      "Epoch: 46 \tTraining Loss: 5.262304 \tValidation Loss: 5.737018\n",
      "Epoch: 47 \tTraining Loss: 5.262280 \tValidation Loss: 5.736992\n",
      "Epoch: 48 \tTraining Loss: 5.262257 \tValidation Loss: 5.736967\n",
      "Epoch: 49 \tTraining Loss: 5.262234 \tValidation Loss: 5.736934\n",
      "Epoch: 50 \tTraining Loss: 5.262208 \tValidation Loss: 5.736898\n",
      "Epoch: 51 \tTraining Loss: 5.262193 \tValidation Loss: 5.736898\n",
      "Epoch: 52 \tTraining Loss: 5.262193 \tValidation Loss: 5.736898\n",
      "Epoch: 53 \tTraining Loss: 5.262193 \tValidation Loss: 5.736897\n",
      "Epoch: 54 \tTraining Loss: 5.262192 \tValidation Loss: 5.736896\n",
      "Epoch: 55 \tTraining Loss: 5.262191 \tValidation Loss: 5.736896\n",
      "Epoch: 56 \tTraining Loss: 5.262191 \tValidation Loss: 5.736896\n",
      "Epoch: 57 \tTraining Loss: 5.262191 \tValidation Loss: 5.736895\n",
      "Epoch: 58 \tTraining Loss: 5.262191 \tValidation Loss: 5.736895\n",
      "Epoch: 59 \tTraining Loss: 5.262191 \tValidation Loss: 5.736895\n",
      "Epoch: 60 \tTraining Loss: 5.262191 \tValidation Loss: 5.736895\n",
      "Epoch: 61 \tTraining Loss: 5.262191 \tValidation Loss: 5.736895\n",
      "Epoch: 62 \tTraining Loss: 5.262191 \tValidation Loss: 5.736895\n",
      "Epoch: 63 \tTraining Loss: 5.262191 \tValidation Loss: 5.736895\n",
      "Epoch: 64 \tTraining Loss: 5.262191 \tValidation Loss: 5.736895\n",
      "No improvement in validation loss for 5 epochs. Stopping training.\n"
     ]
    }
   ],
   "source": [
    "filename_weights = 'simple_model.pt'\n",
    "train_losses, valid_losses = train_model(simple_model, filename_weights)"
   ]
  },
  {
   "cell_type": "code",
   "execution_count": 236,
   "metadata": {},
   "outputs": [
    {
     "name": "stdout",
     "output_type": "stream",
     "text": [
      "Confusion Matrix:\n",
      " [[61 44]\n",
      " [34 15]]\n",
      "\n",
      "Accuracy:  0.4935064935064935\n",
      "\n",
      "F1 Score:  0.2777777777777778\n"
     ]
    }
   ],
   "source": [
    "test_model(simple_model, filename_weights)"
   ]
  },
  {
   "cell_type": "code",
   "execution_count": 237,
   "metadata": {},
   "outputs": [
    {
     "data": {
      "image/png": "[encoded data removed]",
      "text/plain": [
       "<Figure size 640x480 with 1 Axes>"
      ]
     },
     "metadata": {},
     "output_type": "display_data"
    }
   ],
   "source": [
    "# Plot training and validation loss\n",
    "plt.plot(train_losses, label='Training loss')\n",
    "plt.plot(valid_losses, label='Validation loss')\n",
    "plt.legend()\n",
    "plt.show()"
   ]
  },
  {
   "attachments": {},
   "cell_type": "markdown",
   "metadata": {},
   "source": [
    "# Develloping a more complex architecture"
   ]
  },
  {
   "cell_type": "code",
   "execution_count": 238,
   "metadata": {},
   "outputs": [
    {
     "name": "stdout",
     "output_type": "stream",
     "text": [
      "Epoch: 1 \tTraining Loss: 1.537147 \tValidation Loss: 0.875528\n",
      "Epoch: 2 \tTraining Loss: 0.862967 \tValidation Loss: 0.820029\n",
      "Epoch: 3 \tTraining Loss: 0.776393 \tValidation Loss: 0.717926\n",
      "Epoch: 4 \tTraining Loss: 0.723981 \tValidation Loss: 0.685957\n",
      "Epoch: 5 \tTraining Loss: 0.663118 \tValidation Loss: 0.608527\n",
      "Epoch: 6 \tTraining Loss: 0.650769 \tValidation Loss: 0.594666\n",
      "Epoch: 7 \tTraining Loss: 0.627547 \tValidation Loss: 0.600260\n",
      "Epoch: 8 \tTraining Loss: 0.629435 \tValidation Loss: 0.726630\n",
      "Epoch: 9 \tTraining Loss: 0.638247 \tValidation Loss: 0.605752\n",
      "Epoch: 10 \tTraining Loss: 0.608898 \tValidation Loss: 0.606323\n",
      "Epoch: 11 \tTraining Loss: 0.603987 \tValidation Loss: 0.579865\n",
      "Epoch: 12 \tTraining Loss: 0.596813 \tValidation Loss: 0.578958\n",
      "Epoch: 13 \tTraining Loss: 0.595785 \tValidation Loss: 0.574823\n",
      "Epoch: 14 \tTraining Loss: 0.596334 \tValidation Loss: 0.576370\n",
      "Epoch: 15 \tTraining Loss: 0.596986 \tValidation Loss: 0.577654\n",
      "Epoch: 16 \tTraining Loss: 0.594161 \tValidation Loss: 0.576101\n",
      "Epoch: 17 \tTraining Loss: 0.594364 \tValidation Loss: 0.573620\n",
      "Epoch: 18 \tTraining Loss: 0.593445 \tValidation Loss: 0.574353\n",
      "Epoch: 19 \tTraining Loss: 0.593314 \tValidation Loss: 0.572318\n",
      "Epoch: 20 \tTraining Loss: 0.594507 \tValidation Loss: 0.578613\n",
      "Epoch: 21 \tTraining Loss: 0.591908 \tValidation Loss: 0.576816\n",
      "Epoch: 22 \tTraining Loss: 0.591566 \tValidation Loss: 0.574841\n",
      "Epoch: 23 \tTraining Loss: 0.591408 \tValidation Loss: 0.574790\n",
      "No improvement in validation loss for 5 epochs. Stopping training.\n"
     ]
    }
   ],
   "source": [
    "filename_weights = 'complex_model.pt'\n",
    "train_losses, valid_losses = train_model(complex_model, filename_weights)"
   ]
  },
  {
   "cell_type": "code",
   "execution_count": 239,
   "metadata": {},
   "outputs": [
    {
     "name": "stdout",
     "output_type": "stream",
     "text": [
      "Confusion Matrix:\n",
      " [[93 12]\n",
      " [30 19]]\n",
      "\n",
      "Accuracy:  0.7272727272727273\n",
      "\n",
      "F1 Score:  0.4749999999999999\n"
     ]
    }
   ],
   "source": [
    "test_model(complex_model, filename_weights)"
   ]
  },
  {
   "cell_type": "code",
   "execution_count": null,
   "metadata": {},
   "outputs": [],
   "source": []
  }
 ],
 "metadata": {
  "kernelspec": {
   "display_name": "sis-int",
   "language": "python",
   "name": "python3"
  },
  "language_info": {
   "codemirror_mode": {
    "name": "ipython",
    "version": 3
   },
   "file_extension": ".py",
   "mimetype": "text/x-python",
   "name": "python",
   "nbconvert_exporter": "python",
   "pygments_lexer": "ipython3",
   "version": "3.11.0"
  },
  "orig_nbformat": 4
 },
 "nbformat": 4,
 "nbformat_minor": 2
}
